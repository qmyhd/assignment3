{
 "cells": [
  {
   "cell_type": "code",
   "execution_count": null,
   "metadata": {},
   "outputs": [],
   "source": [
    "from keras.datasets import mnist\n",
    "import numpy as np\n",
    "import matplotlib.pyplot as plt\n",
    "from sklearn.neighbors import KNeighborsClassifier\n",
    "from sklearn.metrics import accuracy_score\n",
    "\n",
    "df = mnist.load_data('minst.db')\n",
    "train, test = df\n",
    "X_train, y_train = train\n",
    "X_test, y_test = test"
   ]
  },
  {
   "cell_type": "code",
   "execution_count": null,
   "metadata": {},
   "outputs": [],
   "source": [
    "print(\"Shape of X_train:\", X_train.shape)\n",
    "print(\"Shape of y_train:\", y_train.shape)\n",
    "print(\"Shape of X_test:\", X_test.shape)\n",
    "print(\"Shape of y_test:\", y_test.shape)\n",
    "\n",
    "print(\"Shape of X_train[0]:\", X_train[0].shape)\n",
    "print(\"Shape of X_test[0]:\", X_test[0].shape)\n",
    "X_train_reshaped = X_train.reshape((X_train.shape[0], 28 * 28))\n",
    "X_test_reshaped = X_test.reshape((X_test.shape[0], 28 * 28))"
   ]
  },
  {
   "cell_type": "code",
   "execution_count": null,
   "metadata": {},
   "outputs": [],
   "source": [
    "# Set print options for numpy arrays\n",
    "np.set_printoptions(edgeitems=30, linewidth=100000)\n",
    "\n",
    "# Visualize first 5 samples\n",
    "for i in range(5):\n",
    "    print(y_test[i], '\\n')  # Print the label\n",
    "    print(X_test[i], '\\n')  # Print the matrix of values\n",
    "    plt.contourf(np.rot90(X_test[i].transpose()))  # Make a contour plot of the matrix values\n",
    "    plt.show()"
   ]
  },
  {
   "cell_type": "code",
   "execution_count": 21,
   "metadata": {},
   "outputs": [
    {
     "name": "stdout",
     "output_type": "stream",
     "text": [
      "Accuracy for k=1 on the subset: 0.9544\n",
      "Accuracy for k=3 on the subset: 0.9532\n",
      "Accuracy for k=5 on the subset: 0.9512\n",
      "Accuracy for k=7 on the subset: 0.9528\n",
      "Accuracy for k=9 on the subset: 0.9448\n"
     ]
    }
   ],
   "source": [
    "subset_size = 2500  \n",
    "X_test_subset = X_test_reshaped[:subset_size]\n",
    "y_test_subset = y_test[:subset_size]\n",
    "\n",
    "# Trying different values of k\n",
    "for k in [1, 3, 5, 7, 9]:\n",
    "    knn = KNeighborsClassifier(n_neighbors=k)\n",
    "    knn.fit(X_train_reshaped, y_train)\n",
    "    y_pred = knn.predict(X_test_subset)\n",
    "    print(f\"Accuracy for k={k} on the subset: {accuracy_score(y_test_subset, y_pred)}\")\n"
   ]
  },
  {
   "cell_type": "code",
   "execution_count": 22,
   "metadata": {},
   "outputs": [
    {
     "name": "stdout",
     "output_type": "stream",
     "text": [
      "Accuracy for k=1 on the full test set: 0.9691\n"
     ]
    }
   ],
   "source": [
    "k = 1\n",
    "knn = KNeighborsClassifier(n_neighbors=k)\n",
    "\n",
    "knn.fit(X_train_reshaped, y_train)\n",
    "\n",
    "y_pred = knn.predict(X_test_reshaped)\n",
    "\n",
    "accuracy = accuracy_score(y_test, y_pred)\n",
    "print(f\"Accuracy for k={k} on the full test set: {accuracy}\")"
   ]
  },
  {
   "cell_type": "code",
   "execution_count": 23,
   "metadata": {},
   "outputs": [
    {
     "name": "stdout",
     "output_type": "stream",
     "text": [
      "The color image can be converted into tabular data where each row represents a pixel and each column represents a color channel (R, G, B).\n"
     ]
    }
   ],
   "source": [
    "# Create a simulated color image of shape (height, width, 3)\n",
    "height = 10\n",
    "width = 10\n",
    "color_image = np.random.randint(0, 256, (height, width, 3), dtype=np.uint8)\n",
    "\n",
    "# Reshape the image into a 2D array of shape (height * width, 3)\n",
    "color_image_reshaped = color_image.reshape((height * width, 3))\n",
    "\n",
    "print(\"The color image can be converted into tabular data where each row represents a pixel and each column represents a color channel (R, G, B).\")"
   ]
  }
 ],
 "metadata": {
  "kernelspec": {
   "display_name": "Python 3",
   "language": "python",
   "name": "python3"
  },
  "language_info": {
   "codemirror_mode": {
    "name": "ipython",
    "version": 3
   },
   "file_extension": ".py",
   "mimetype": "text/x-python",
   "name": "python",
   "nbconvert_exporter": "python",
   "pygments_lexer": "ipython3",
   "version": "3.11.5"
  }
 },
 "nbformat": 4,
 "nbformat_minor": 2
}
